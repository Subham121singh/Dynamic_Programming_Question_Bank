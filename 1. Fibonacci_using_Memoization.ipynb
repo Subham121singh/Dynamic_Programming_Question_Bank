{
 "cells": [
  {
   "cell_type": "markdown",
   "metadata": {},
   "source": [
    "### Fibonacci Using Recursion"
   ]
  },
  {
   "cell_type": "code",
   "execution_count": 1,
   "metadata": {},
   "outputs": [],
   "source": [
    "def FibRecursion(n):\n",
    "    if n<=1:\n",
    "        return n\n",
    "    return FibRecursion(n-1) + FibRecursion(n-2)"
   ]
  },
  {
   "cell_type": "code",
   "execution_count": 2,
   "metadata": {},
   "outputs": [
    {
     "name": "stdout",
     "output_type": "stream",
     "text": [
      "610\n"
     ]
    }
   ],
   "source": [
    "print(FibRecursion(15))"
   ]
  },
  {
   "cell_type": "markdown",
   "metadata": {},
   "source": [
    "### Fibonacci Using DP approach"
   ]
  },
  {
   "cell_type": "code",
   "execution_count": 3,
   "metadata": {},
   "outputs": [],
   "source": [
    "def Fibonacci(n):\n",
    "    if n<= 1:\n",
    "        return n        ## If n is less than or equal to 1, n itself is fibonacci value.\n",
    "    F = [0]*(n+1)       ## Creating Array or list of Size n+1, so as to store fibonacci value from 0 to n\n",
    "    F[0] = 0\n",
    "    F[1] = 1\n",
    "    for i in range(2, n+1):\n",
    "        F[i] = F[i-1] + F[i-2]   ## Here we are using allready calculated value for different n, which we\n",
    "                                 ## have stored in our list and this technique of using allready\n",
    "                                 ## calculated value is called Memoization.\n",
    "    return F[n]"
   ]
  },
  {
   "cell_type": "code",
   "execution_count": 4,
   "metadata": {},
   "outputs": [
    {
     "data": {
      "text/plain": [
       "354224848179261915075"
      ]
     },
     "execution_count": 4,
     "metadata": {},
     "output_type": "execute_result"
    }
   ],
   "source": [
    "Fibonacci(100) ## 354224848179261915075"
   ]
  }
 ],
 "metadata": {
  "kernelspec": {
   "display_name": "Python 3",
   "language": "python",
   "name": "python3"
  },
  "language_info": {
   "codemirror_mode": {
    "name": "ipython",
    "version": 3
   },
   "file_extension": ".py",
   "mimetype": "text/x-python",
   "name": "python",
   "nbconvert_exporter": "python",
   "pygments_lexer": "ipython3",
   "version": "3.7.3"
  }
 },
 "nbformat": 4,
 "nbformat_minor": 2
}
