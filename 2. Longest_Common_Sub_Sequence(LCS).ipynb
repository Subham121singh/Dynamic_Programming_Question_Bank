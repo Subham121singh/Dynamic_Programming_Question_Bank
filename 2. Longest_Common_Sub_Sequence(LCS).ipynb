{
 "cells": [
  {
   "cell_type": "markdown",
   "metadata": {},
   "source": [
    "#### Longest Common Subsequence:\n",
    "   * Using recursion"
   ]
  },
  {
   "cell_type": "code",
   "execution_count": 1,
   "metadata": {},
   "outputs": [],
   "source": [
    "def LCS(str1,str2):\n",
    "    if str1 == \"\" or str2 == \"\":\n",
    "        return 0\n",
    "    if str1[-1]==str2[-1]:    ## Checking from end of both strings\n",
    "        return LCS(str1[:-1],str2[:-1])+1\n",
    "    else:\n",
    "        return max(LCS(str1[:-1],str2),LCS(str1,str2[:-1]))"
   ]
  },
  {
   "cell_type": "code",
   "execution_count": 2,
   "metadata": {},
   "outputs": [
    {
     "name": "stdout",
     "output_type": "stream",
     "text": [
      "3\n"
     ]
    }
   ],
   "source": [
    "str1 = \"abcde\"\n",
    "str2 = \"ace\"\n",
    "print(LCS(str1,str2))"
   ]
  },
  {
   "cell_type": "code",
   "execution_count": 3,
   "metadata": {},
   "outputs": [
    {
     "name": "stdout",
     "output_type": "stream",
     "text": [
      "3\n"
     ]
    }
   ],
   "source": [
    "t1 = \"ylqpejqbalahwr\"\n",
    "t2 =\"yrkzavgdmdgtqpg\"\n",
    "print(LCS(t1,t2))"
   ]
  },
  {
   "cell_type": "markdown",
   "metadata": {},
   "source": [
    "#### DP's Bottom Up Approach"
   ]
  },
  {
   "cell_type": "code",
   "execution_count": 4,
   "metadata": {},
   "outputs": [],
   "source": [
    "def LCS_BottomUp(text1,text2):\n",
    "    m,n = len(text1),len(text2)\n",
    "    L  = [[0 for _ in range(n+1)] for _ in range(m+1)] # Creating List of dimension (m+1) x (n+1)\n",
    "    for i in range(1,m+1):\n",
    "        for j in range(1,n+1):\n",
    "            if text1[i-1]== text2[j-1]:\n",
    "                L[i][j] = L[i-1][j-1] +1\n",
    "            else:\n",
    "                L[i][j] = max(L[i-1][j],L[i][j-1])\n",
    "    return L[-1][-1]"
   ]
  },
  {
   "cell_type": "code",
   "execution_count": 5,
   "metadata": {},
   "outputs": [
    {
     "name": "stdout",
     "output_type": "stream",
     "text": [
      "4\n"
     ]
    }
   ],
   "source": [
    "str1 = \"pmjghexybyrgzczy\"\n",
    "str2 = \"hafcdqbgncrcbihkd\"\n",
    "print(LCS_BottomUp(str1,str2))"
   ]
  }
 ],
 "metadata": {
  "kernelspec": {
   "display_name": "Python 3",
   "language": "python",
   "name": "python3"
  },
  "language_info": {
   "codemirror_mode": {
    "name": "ipython",
    "version": 3
   },
   "file_extension": ".py",
   "mimetype": "text/x-python",
   "name": "python",
   "nbconvert_exporter": "python",
   "pygments_lexer": "ipython3",
   "version": "3.7.3"
  }
 },
 "nbformat": 4,
 "nbformat_minor": 2
}
