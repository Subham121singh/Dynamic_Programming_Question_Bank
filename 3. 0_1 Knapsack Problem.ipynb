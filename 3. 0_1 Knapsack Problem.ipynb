{
 "cells": [
  {
   "cell_type": "markdown",
   "metadata": {},
   "source": [
    "### 0/1 Knapsack Problem Using Recursion:\n",
    "   * 0/1 Means either we would take an item or would not take."
   ]
  },
  {
   "cell_type": "code",
   "execution_count": 1,
   "metadata": {},
   "outputs": [],
   "source": [
    "def KnapSack(wghts,Val,Max_wgt):\n",
    "    if wghts == []:\n",
    "        return 0\n",
    "    if wghts[0] > Max_wgt:\n",
    "        return KnapSack(wghts[1:], Val[1:], Max_wgt)\n",
    "    else:\n",
    "        return max(KnapSack( wghts[1:], Val[1:], Max_wgt), KnapSack( wghts[1:], Val[1:], Max_wgt-wghts[0] )+Val[0])\n",
    "    "
   ]
  },
  {
   "cell_type": "code",
   "execution_count": 2,
   "metadata": {},
   "outputs": [
    {
     "name": "stdout",
     "output_type": "stream",
     "text": [
      "220\n"
     ]
    }
   ],
   "source": [
    "Max_Wgt = 50\n",
    "wghts = [10,20,30]\n",
    "val = [60,100,120]\n",
    "print(KnapSack(wghts, val, Max_Wgt))"
   ]
  },
  {
   "cell_type": "code",
   "execution_count": 3,
   "metadata": {},
   "outputs": [
    {
     "name": "stdout",
     "output_type": "stream",
     "text": [
      "160\n"
     ]
    }
   ],
   "source": [
    "Max_wgt = 60\n",
    "wgts = [20,30,40,70]\n",
    "vals = [70,80,90,200]\n",
    "print(KnapSack(wgts,vals,Max_wgt))"
   ]
  },
  {
   "cell_type": "markdown",
   "metadata": {},
   "source": [
    "### Knapsack Problem Using Memoization"
   ]
  },
  {
   "cell_type": "code",
   "execution_count": 4,
   "metadata": {},
   "outputs": [],
   "source": [
    "def Knapsack(W,wgts,vals):\n",
    "    n = len(wgts)\n",
    "    K = [[0 for _ in range(W+1)] for _ in range(n+1)] # Creating an array of size (n+1)x(W+1)\n",
    "    for i in range(1,n+1):\n",
    "        for w in range(1,W+1):\n",
    "            if wgts[i-1]>w:\n",
    "                K[i][w] = K[i-1][w]\n",
    "            else:\n",
    "                K[i][w] = max( vals[i-1] + K[i-1][w-wgts[i-1]], K[i-1][w] )\n",
    "    return K[n][W]"
   ]
  },
  {
   "cell_type": "code",
   "execution_count": 5,
   "metadata": {},
   "outputs": [
    {
     "name": "stdout",
     "output_type": "stream",
     "text": [
      "9\n"
     ]
    }
   ],
   "source": [
    "max_wgt = 7\n",
    "wgt = [1,3,4,5]\n",
    "val = [1,4,5,7]\n",
    "print(Knapsack(max_wgt,wgt,val))"
   ]
  }
 ],
 "metadata": {
  "kernelspec": {
   "display_name": "Python 3",
   "language": "python",
   "name": "python3"
  },
  "language_info": {
   "codemirror_mode": {
    "name": "ipython",
    "version": 3
   },
   "file_extension": ".py",
   "mimetype": "text/x-python",
   "name": "python",
   "nbconvert_exporter": "python",
   "pygments_lexer": "ipython3",
   "version": "3.7.3"
  }
 },
 "nbformat": 4,
 "nbformat_minor": 2
}
